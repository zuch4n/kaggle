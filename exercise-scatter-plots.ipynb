{
 "cells": [
  {
   "cell_type": "markdown",
   "id": "ce5812c4",
   "metadata": {
    "papermill": {
     "duration": 0.009746,
     "end_time": "2022-12-16T01:53:24.429941",
     "exception": false,
     "start_time": "2022-12-16T01:53:24.420195",
     "status": "completed"
    },
    "tags": []
   },
   "source": [
    "**This notebook is an exercise in the [Data Visualization](https://www.kaggle.com/learn/data-visualization) course.  You can reference the tutorial at [this link](https://www.kaggle.com/alexisbcook/scatter-plots).**\n",
    "\n",
    "---\n"
   ]
  },
  {
   "cell_type": "markdown",
   "id": "7cb598dd",
   "metadata": {
    "papermill": {
     "duration": 0.007627,
     "end_time": "2022-12-16T01:53:24.446019",
     "exception": false,
     "start_time": "2022-12-16T01:53:24.438392",
     "status": "completed"
    },
    "tags": []
   },
   "source": [
    "In this exercise, you will use your new knowledge to propose a solution to a real-world scenario.  To succeed, you will need to import data into Python, answer questions using the data, and generate **scatter plots** to understand patterns in the data.\n",
    "\n",
    "## Scenario\n",
    "\n",
    "You work for a major candy producer, and your goal is to write a report that your company can use to guide the design of its next product.  Soon after starting your research, you stumble across this [very interesting dataset](https://fivethirtyeight.com/features/the-ultimate-halloween-candy-power-ranking/) containing results from a fun survey to crowdsource favorite candies.\n",
    "\n",
    "## Setup\n",
    "\n",
    "Run the next cell to import and configure the Python libraries that you need to complete the exercise."
   ]
  },
  {
   "cell_type": "code",
   "execution_count": 1,
   "id": "7276e5f5",
   "metadata": {
    "execution": {
     "iopub.execute_input": "2022-12-16T01:53:24.464362Z",
     "iopub.status.busy": "2022-12-16T01:53:24.463717Z",
     "iopub.status.idle": "2022-12-16T01:53:25.509488Z",
     "shell.execute_reply": "2022-12-16T01:53:25.508171Z"
    },
    "papermill": {
     "duration": 1.058086,
     "end_time": "2022-12-16T01:53:25.512099",
     "exception": false,
     "start_time": "2022-12-16T01:53:24.454013",
     "status": "completed"
    },
    "tags": []
   },
   "outputs": [
    {
     "name": "stdout",
     "output_type": "stream",
     "text": [
      "Setup Complete\n"
     ]
    }
   ],
   "source": [
    "import pandas as pd\n",
    "pd.plotting.register_matplotlib_converters()\n",
    "import matplotlib.pyplot as plt\n",
    "%matplotlib inline\n",
    "import seaborn as sns\n",
    "print(\"Setup Complete\")"
   ]
  },
  {
   "cell_type": "markdown",
   "id": "fd84aac0",
   "metadata": {
    "papermill": {
     "duration": 0.007802,
     "end_time": "2022-12-16T01:53:25.529682",
     "exception": false,
     "start_time": "2022-12-16T01:53:25.521880",
     "status": "completed"
    },
    "tags": []
   },
   "source": [
    "The questions below will give you feedback on your work. Run the following cell to set up our feedback system."
   ]
  },
  {
   "cell_type": "code",
   "execution_count": 2,
   "id": "28e56abd",
   "metadata": {
    "execution": {
     "iopub.execute_input": "2022-12-16T01:53:25.547911Z",
     "iopub.status.busy": "2022-12-16T01:53:25.547202Z",
     "iopub.status.idle": "2022-12-16T01:53:25.614950Z",
     "shell.execute_reply": "2022-12-16T01:53:25.613333Z"
    },
    "papermill": {
     "duration": 0.080192,
     "end_time": "2022-12-16T01:53:25.618052",
     "exception": false,
     "start_time": "2022-12-16T01:53:25.537860",
     "status": "completed"
    },
    "tags": []
   },
   "outputs": [
    {
     "name": "stdout",
     "output_type": "stream",
     "text": [
      "Setup Complete\n"
     ]
    }
   ],
   "source": [
    "# Set up code checking\n",
    "import os\n",
    "if not os.path.exists(\"../input/candy.csv\"):\n",
    "    os.symlink(\"../input/data-for-datavis/candy.csv\", \"../input/candy.csv\") \n",
    "from learntools.core import binder\n",
    "binder.bind(globals())\n",
    "from learntools.data_viz_to_coder.ex4 import *\n",
    "print(\"Setup Complete\")"
   ]
  },
  {
   "cell_type": "markdown",
   "id": "44783216",
   "metadata": {
    "papermill": {
     "duration": 0.008064,
     "end_time": "2022-12-16T01:53:25.636667",
     "exception": false,
     "start_time": "2022-12-16T01:53:25.628603",
     "status": "completed"
    },
    "tags": []
   },
   "source": [
    "## Step 1: Load the Data\n",
    "\n",
    "Read the candy data file into `candy_data`.  Use the `\"id\"` column to label the rows."
   ]
  },
  {
   "cell_type": "code",
   "execution_count": 3,
   "id": "730fa232",
   "metadata": {
    "execution": {
     "iopub.execute_input": "2022-12-16T01:53:25.654837Z",
     "iopub.status.busy": "2022-12-16T01:53:25.654442Z",
     "iopub.status.idle": "2022-12-16T01:53:25.671018Z",
     "shell.execute_reply": "2022-12-16T01:53:25.669907Z"
    },
    "papermill": {
     "duration": 0.028266,
     "end_time": "2022-12-16T01:53:25.673187",
     "exception": false,
     "start_time": "2022-12-16T01:53:25.644921",
     "status": "completed"
    },
    "tags": []
   },
   "outputs": [
    {
     "data": {
      "application/javascript": [
       "parent.postMessage({\"jupyterEvent\": \"custom.exercise_interaction\", \"data\": {\"outcomeType\": 1, \"valueTowardsCompletion\": 0.3333333333333333, \"interactionType\": 1, \"questionType\": 1, \"questionId\": \"1_LoadData\", \"learnToolsVersion\": \"0.3.4\", \"failureMessage\": \"\", \"exceptionClass\": \"\", \"trace\": \"\"}}, \"*\")"
      ],
      "text/plain": [
       "<IPython.core.display.Javascript object>"
      ]
     },
     "metadata": {},
     "output_type": "display_data"
    },
    {
     "data": {
      "text/markdown": [
       "<span style=\"color:#33cc33\">Correct</span>"
      ],
      "text/plain": [
       "Correct"
      ]
     },
     "metadata": {},
     "output_type": "display_data"
    }
   ],
   "source": [
    "# Path of the file to read\n",
    "candy_filepath = \"../input/candy.csv\"\n",
    "\n",
    "# Fill in the line below to read the file into a variable candy_data\n",
    "candy_data = pd.read_csv(candy_filepath, index_col=\"id\")\n",
    "\n",
    "# Run the line below with no changes to check that you've loaded the data correctly\n",
    "step_1.check()"
   ]
  },
  {
   "cell_type": "code",
   "execution_count": 4,
   "id": "f761d8c6",
   "metadata": {
    "execution": {
     "iopub.execute_input": "2022-12-16T01:53:25.692688Z",
     "iopub.status.busy": "2022-12-16T01:53:25.691767Z",
     "iopub.status.idle": "2022-12-16T01:53:25.696548Z",
     "shell.execute_reply": "2022-12-16T01:53:25.695335Z"
    },
    "papermill": {
     "duration": 0.017396,
     "end_time": "2022-12-16T01:53:25.699233",
     "exception": false,
     "start_time": "2022-12-16T01:53:25.681837",
     "status": "completed"
    },
    "tags": []
   },
   "outputs": [],
   "source": [
    "# Lines below will give you a hint or solution code\n",
    "#step_1.hint()\n",
    "#step_1.solution()"
   ]
  },
  {
   "cell_type": "markdown",
   "id": "963c5990",
   "metadata": {
    "papermill": {
     "duration": 0.008921,
     "end_time": "2022-12-16T01:53:25.717753",
     "exception": false,
     "start_time": "2022-12-16T01:53:25.708832",
     "status": "completed"
    },
    "tags": []
   },
   "source": [
    "## Step 2: Review the data\n",
    "\n",
    "Use a Python command to print the first five rows of the data."
   ]
  },
  {
   "cell_type": "code",
   "execution_count": 5,
   "id": "ec4d5ee1",
   "metadata": {
    "execution": {
     "iopub.execute_input": "2022-12-16T01:53:25.737904Z",
     "iopub.status.busy": "2022-12-16T01:53:25.737486Z",
     "iopub.status.idle": "2022-12-16T01:53:25.762037Z",
     "shell.execute_reply": "2022-12-16T01:53:25.760689Z"
    },
    "papermill": {
     "duration": 0.038026,
     "end_time": "2022-12-16T01:53:25.764949",
     "exception": false,
     "start_time": "2022-12-16T01:53:25.726923",
     "status": "completed"
    },
    "tags": []
   },
   "outputs": [
    {
     "data": {
      "text/html": [
       "<div>\n",
       "<style scoped>\n",
       "    .dataframe tbody tr th:only-of-type {\n",
       "        vertical-align: middle;\n",
       "    }\n",
       "\n",
       "    .dataframe tbody tr th {\n",
       "        vertical-align: top;\n",
       "    }\n",
       "\n",
       "    .dataframe thead th {\n",
       "        text-align: right;\n",
       "    }\n",
       "</style>\n",
       "<table border=\"1\" class=\"dataframe\">\n",
       "  <thead>\n",
       "    <tr style=\"text-align: right;\">\n",
       "      <th></th>\n",
       "      <th>competitorname</th>\n",
       "      <th>chocolate</th>\n",
       "      <th>fruity</th>\n",
       "      <th>caramel</th>\n",
       "      <th>peanutyalmondy</th>\n",
       "      <th>nougat</th>\n",
       "      <th>crispedricewafer</th>\n",
       "      <th>hard</th>\n",
       "      <th>bar</th>\n",
       "      <th>pluribus</th>\n",
       "      <th>sugarpercent</th>\n",
       "      <th>pricepercent</th>\n",
       "      <th>winpercent</th>\n",
       "    </tr>\n",
       "    <tr>\n",
       "      <th>id</th>\n",
       "      <th></th>\n",
       "      <th></th>\n",
       "      <th></th>\n",
       "      <th></th>\n",
       "      <th></th>\n",
       "      <th></th>\n",
       "      <th></th>\n",
       "      <th></th>\n",
       "      <th></th>\n",
       "      <th></th>\n",
       "      <th></th>\n",
       "      <th></th>\n",
       "      <th></th>\n",
       "    </tr>\n",
       "  </thead>\n",
       "  <tbody>\n",
       "    <tr>\n",
       "      <th>0</th>\n",
       "      <td>100 Grand</td>\n",
       "      <td>Yes</td>\n",
       "      <td>No</td>\n",
       "      <td>Yes</td>\n",
       "      <td>No</td>\n",
       "      <td>No</td>\n",
       "      <td>Yes</td>\n",
       "      <td>No</td>\n",
       "      <td>Yes</td>\n",
       "      <td>No</td>\n",
       "      <td>0.732</td>\n",
       "      <td>0.860</td>\n",
       "      <td>66.971725</td>\n",
       "    </tr>\n",
       "    <tr>\n",
       "      <th>1</th>\n",
       "      <td>3 Musketeers</td>\n",
       "      <td>Yes</td>\n",
       "      <td>No</td>\n",
       "      <td>No</td>\n",
       "      <td>No</td>\n",
       "      <td>Yes</td>\n",
       "      <td>No</td>\n",
       "      <td>No</td>\n",
       "      <td>Yes</td>\n",
       "      <td>No</td>\n",
       "      <td>0.604</td>\n",
       "      <td>0.511</td>\n",
       "      <td>67.602936</td>\n",
       "    </tr>\n",
       "    <tr>\n",
       "      <th>2</th>\n",
       "      <td>Air Heads</td>\n",
       "      <td>No</td>\n",
       "      <td>Yes</td>\n",
       "      <td>No</td>\n",
       "      <td>No</td>\n",
       "      <td>No</td>\n",
       "      <td>No</td>\n",
       "      <td>No</td>\n",
       "      <td>No</td>\n",
       "      <td>No</td>\n",
       "      <td>0.906</td>\n",
       "      <td>0.511</td>\n",
       "      <td>52.341465</td>\n",
       "    </tr>\n",
       "    <tr>\n",
       "      <th>3</th>\n",
       "      <td>Almond Joy</td>\n",
       "      <td>Yes</td>\n",
       "      <td>No</td>\n",
       "      <td>No</td>\n",
       "      <td>Yes</td>\n",
       "      <td>No</td>\n",
       "      <td>No</td>\n",
       "      <td>No</td>\n",
       "      <td>Yes</td>\n",
       "      <td>No</td>\n",
       "      <td>0.465</td>\n",
       "      <td>0.767</td>\n",
       "      <td>50.347546</td>\n",
       "    </tr>\n",
       "    <tr>\n",
       "      <th>4</th>\n",
       "      <td>Baby Ruth</td>\n",
       "      <td>Yes</td>\n",
       "      <td>No</td>\n",
       "      <td>Yes</td>\n",
       "      <td>Yes</td>\n",
       "      <td>Yes</td>\n",
       "      <td>No</td>\n",
       "      <td>No</td>\n",
       "      <td>Yes</td>\n",
       "      <td>No</td>\n",
       "      <td>0.604</td>\n",
       "      <td>0.767</td>\n",
       "      <td>56.914547</td>\n",
       "    </tr>\n",
       "  </tbody>\n",
       "</table>\n",
       "</div>"
      ],
      "text/plain": [
       "   competitorname chocolate fruity caramel peanutyalmondy nougat  \\\n",
       "id                                                                 \n",
       "0       100 Grand       Yes     No     Yes             No     No   \n",
       "1    3 Musketeers       Yes     No      No             No    Yes   \n",
       "2       Air Heads        No    Yes      No             No     No   \n",
       "3      Almond Joy       Yes     No      No            Yes     No   \n",
       "4       Baby Ruth       Yes     No     Yes            Yes    Yes   \n",
       "\n",
       "   crispedricewafer hard  bar pluribus  sugarpercent  pricepercent  winpercent  \n",
       "id                                                                              \n",
       "0               Yes   No  Yes       No         0.732         0.860   66.971725  \n",
       "1                No   No  Yes       No         0.604         0.511   67.602936  \n",
       "2                No   No   No       No         0.906         0.511   52.341465  \n",
       "3                No   No  Yes       No         0.465         0.767   50.347546  \n",
       "4                No   No  Yes       No         0.604         0.767   56.914547  "
      ]
     },
     "execution_count": 5,
     "metadata": {},
     "output_type": "execute_result"
    }
   ],
   "source": [
    "# Print the first five rows of the data\n",
    "candy_data.head()"
   ]
  },
  {
   "cell_type": "markdown",
   "id": "21d49d24",
   "metadata": {
    "papermill": {
     "duration": 0.010007,
     "end_time": "2022-12-16T01:53:25.786869",
     "exception": false,
     "start_time": "2022-12-16T01:53:25.776862",
     "status": "completed"
    },
    "tags": []
   },
   "source": [
    "The dataset contains 83 rows, where each corresponds to a different candy bar.  There are 13 columns:\n",
    "- `'competitorname'` contains the name of the candy bar. \n",
    "- the next **9** columns (from `'chocolate'` to `'pluribus'`) describe the candy.  For instance, rows with chocolate candies have `\"Yes\"` in the `'chocolate'` column (and candies without chocolate have `\"No\"` in the same column).\n",
    "- `'sugarpercent'` provides some indication of the amount of sugar, where higher values signify higher sugar content.\n",
    "- `'pricepercent'` shows the price per unit, relative to the other candies in the dataset.\n",
    "- `'winpercent'` is calculated from the survey results; higher values indicate that the candy was more popular with survey respondents.\n",
    "\n",
    "Use the first five rows of the data to answer the questions below."
   ]
  },
  {
   "cell_type": "code",
   "execution_count": 6,
   "id": "d10f6882",
   "metadata": {
    "execution": {
     "iopub.execute_input": "2022-12-16T01:53:25.811654Z",
     "iopub.status.busy": "2022-12-16T01:53:25.810020Z",
     "iopub.status.idle": "2022-12-16T01:53:25.823495Z",
     "shell.execute_reply": "2022-12-16T01:53:25.822166Z"
    },
    "papermill": {
     "duration": 0.030268,
     "end_time": "2022-12-16T01:53:25.826399",
     "exception": false,
     "start_time": "2022-12-16T01:53:25.796131",
     "status": "completed"
    },
    "tags": []
   },
   "outputs": [
    {
     "data": {
      "application/javascript": [
       "parent.postMessage({\"jupyterEvent\": \"custom.exercise_interaction\", \"data\": {\"outcomeType\": 1, \"valueTowardsCompletion\": 0.3333333333333333, \"interactionType\": 1, \"questionType\": 1, \"questionId\": \"2_ReviewData\", \"learnToolsVersion\": \"0.3.4\", \"failureMessage\": \"\", \"exceptionClass\": \"\", \"trace\": \"\"}}, \"*\")"
      ],
      "text/plain": [
       "<IPython.core.display.Javascript object>"
      ]
     },
     "metadata": {},
     "output_type": "display_data"
    },
    {
     "data": {
      "text/markdown": [
       "<span style=\"color:#33cc33\">Correct</span>"
      ],
      "text/plain": [
       "Correct"
      ]
     },
     "metadata": {},
     "output_type": "display_data"
    }
   ],
   "source": [
    "# Fill in the line below: Which candy was more popular with survey respondents:\n",
    "# '3 Musketeers' or 'Almond Joy'?  (Please enclose your answer in single quotes.)\n",
    "more_popular = '3 Musketeers'\n",
    "\n",
    "# Fill in the line below: Which candy has higher sugar content: 'Air Heads'\n",
    "# or 'Baby Ruth'? (Please enclose your answer in single quotes.)\n",
    "more_sugar = 'Air Heads'\n",
    "\n",
    "# Check your answers\n",
    "step_2.check()"
   ]
  },
  {
   "cell_type": "code",
   "execution_count": 7,
   "id": "f44890ea",
   "metadata": {
    "execution": {
     "iopub.execute_input": "2022-12-16T01:53:25.850364Z",
     "iopub.status.busy": "2022-12-16T01:53:25.849417Z",
     "iopub.status.idle": "2022-12-16T01:53:25.855792Z",
     "shell.execute_reply": "2022-12-16T01:53:25.853913Z"
    },
    "papermill": {
     "duration": 0.023026,
     "end_time": "2022-12-16T01:53:25.859178",
     "exception": false,
     "start_time": "2022-12-16T01:53:25.836152",
     "status": "completed"
    },
    "tags": []
   },
   "outputs": [],
   "source": [
    "# Lines below will give you a hint or solution code\n",
    "#step_2.hint()\n",
    "#step_2.solution()"
   ]
  },
  {
   "cell_type": "markdown",
   "id": "558df63f",
   "metadata": {
    "papermill": {
     "duration": 0.009192,
     "end_time": "2022-12-16T01:53:25.879461",
     "exception": false,
     "start_time": "2022-12-16T01:53:25.870269",
     "status": "completed"
    },
    "tags": []
   },
   "source": [
    "## Step 3: The role of sugar\n",
    "\n",
    "Do people tend to prefer candies with higher sugar content?  \n",
    "\n",
    "#### Part A\n",
    "\n",
    "Create a scatter plot that shows the relationship between `'sugarpercent'` (on the horizontal x-axis) and `'winpercent'` (on the vertical y-axis).  _Don't add a regression line just yet -- you'll do that in the next step!_"
   ]
  },
  {
   "cell_type": "code",
   "execution_count": 8,
   "id": "d579762f",
   "metadata": {
    "execution": {
     "iopub.execute_input": "2022-12-16T01:53:25.900688Z",
     "iopub.status.busy": "2022-12-16T01:53:25.899943Z",
     "iopub.status.idle": "2022-12-16T01:53:26.173786Z",
     "shell.execute_reply": "2022-12-16T01:53:26.172619Z"
    },
    "papermill": {
     "duration": 0.287875,
     "end_time": "2022-12-16T01:53:26.176892",
     "exception": false,
     "start_time": "2022-12-16T01:53:25.889017",
     "status": "completed"
    },
    "tags": []
   },
   "outputs": [
    {
     "data": {
      "application/javascript": [
       "parent.postMessage({\"jupyterEvent\": \"custom.exercise_interaction\", \"data\": {\"outcomeType\": 1, \"valueTowardsCompletion\": 0.3333333333333333, \"interactionType\": 1, \"questionType\": 2, \"questionId\": \"3.1_PlotBlueScatter\", \"learnToolsVersion\": \"0.3.4\", \"failureMessage\": \"\", \"exceptionClass\": \"\", \"trace\": \"\"}}, \"*\")"
      ],
      "text/plain": [
       "<IPython.core.display.Javascript object>"
      ]
     },
     "metadata": {},
     "output_type": "display_data"
    },
    {
     "data": {
      "text/markdown": [
       "<span style=\"color:#33cc33\">Correct</span>"
      ],
      "text/plain": [
       "Correct"
      ]
     },
     "metadata": {},
     "output_type": "display_data"
    },
    {
     "data": {
      "image/png": "[encoded data removed]",
      "text/plain": [
       "<Figure size 432x288 with 1 Axes>"
      ]
     },
     "metadata": {
      "needs_background": "light"
     },
     "output_type": "display_data"
    }
   ],
   "source": [
    "# Scatter plot showing the relationship between 'sugarpercent' and 'winpercent'\n",
    "sns.scatterplot(x=candy_data['sugarpercent'], y=candy_data['winpercent'])\n",
    "\n",
    "# Check your answer\n",
    "step_3.a.check()"
   ]
  },
  {
   "cell_type": "code",
   "execution_count": 9,
   "id": "8de138b8",
   "metadata": {
    "execution": {
     "iopub.execute_input": "2022-12-16T01:53:26.198191Z",
     "iopub.status.busy": "2022-12-16T01:53:26.197758Z",
     "iopub.status.idle": "2022-12-16T01:53:26.202482Z",
     "shell.execute_reply": "2022-12-16T01:53:26.201279Z"
    },
    "papermill": {
     "duration": 0.017941,
     "end_time": "2022-12-16T01:53:26.204645",
     "exception": false,
     "start_time": "2022-12-16T01:53:26.186704",
     "status": "completed"
    },
    "tags": []
   },
   "outputs": [],
   "source": [
    "# Lines below will give you a hint or solution code\n",
    "#step_3.a.hint()\n",
    "#step_3.a.solution_plot()"
   ]
  },
  {
   "cell_type": "markdown",
   "id": "1b118a54",
   "metadata": {
    "papermill": {
     "duration": 0.009758,
     "end_time": "2022-12-16T01:53:26.224221",
     "exception": false,
     "start_time": "2022-12-16T01:53:26.214463",
     "status": "completed"
    },
    "tags": []
   },
   "source": [
    "#### Part B\n",
    "\n",
    "Does the scatter plot show a **strong** correlation between the two variables?  If so, are candies with more sugar relatively more or less popular with the survey respondents?"
   ]
  },
  {
   "cell_type": "code",
   "execution_count": 10,
   "id": "9eda574f",
   "metadata": {
    "execution": {
     "iopub.execute_input": "2022-12-16T01:53:26.245549Z",
     "iopub.status.busy": "2022-12-16T01:53:26.245132Z",
     "iopub.status.idle": "2022-12-16T01:53:26.249512Z",
     "shell.execute_reply": "2022-12-16T01:53:26.248489Z"
    },
    "papermill": {
     "duration": 0.0179,
     "end_time": "2022-12-16T01:53:26.251887",
     "exception": false,
     "start_time": "2022-12-16T01:53:26.233987",
     "status": "completed"
    },
    "tags": []
   },
   "outputs": [],
   "source": [
    "#step_3.b.hint()"
   ]
  },
  {
   "cell_type": "code",
   "execution_count": 11,
   "id": "80b2dc30",
   "metadata": {
    "execution": {
     "iopub.execute_input": "2022-12-16T01:53:26.273500Z",
     "iopub.status.busy": "2022-12-16T01:53:26.273056Z",
     "iopub.status.idle": "2022-12-16T01:53:26.281973Z",
     "shell.execute_reply": "2022-12-16T01:53:26.280891Z"
    },
    "papermill": {
     "duration": 0.022182,
     "end_time": "2022-12-16T01:53:26.284065",
     "exception": false,
     "start_time": "2022-12-16T01:53:26.261883",
     "status": "completed"
    },
    "tags": []
   },
   "outputs": [
    {
     "data": {
      "application/javascript": [
       "parent.postMessage({\"jupyterEvent\": \"custom.exercise_interaction\", \"data\": {\"interactionType\": 3, \"questionType\": 4, \"questionId\": \"3.2_ThinkBlueScatter\", \"learnToolsVersion\": \"0.3.4\", \"valueTowardsCompletion\": 0.0, \"failureMessage\": \"\", \"exceptionClass\": \"\", \"trace\": \"\", \"outcomeType\": 4}}, \"*\")"
      ],
      "text/plain": [
       "<IPython.core.display.Javascript object>"
      ]
     },
     "metadata": {},
     "output_type": "display_data"
    },
    {
     "data": {
      "text/markdown": [
       "<span style=\"color:#33cc99\">Solution:</span> The scatter plot does not show a strong correlation between the two variables. Since there is no clear relationship between the two variables, this tells us that sugar content does not play a strong role in candy popularity."
      ],
      "text/plain": [
       "Solution: The scatter plot does not show a strong correlation between the two variables. Since there is no clear relationship between the two variables, this tells us that sugar content does not play a strong role in candy popularity."
      ]
     },
     "metadata": {},
     "output_type": "display_data"
    }
   ],
   "source": [
    "# Check your answer (Run this code cell to receive credit!)\n",
    "step_3.b.solution()"
   ]
  },
  {
   "cell_type": "markdown",
   "id": "cfbf6b43",
   "metadata": {
    "papermill": {
     "duration": 0.009737,
     "end_time": "2022-12-16T01:53:26.303943",
     "exception": false,
     "start_time": "2022-12-16T01:53:26.294206",
     "status": "completed"
    },
    "tags": []
   },
   "source": [
    "## Step 4: Take a closer look\n",
    "\n",
    "#### Part A\n",
    "\n",
    "Create the same scatter plot you created in **Step 3**, but now with a regression line!"
   ]
  },
  {
   "cell_type": "code",
   "execution_count": 12,
   "id": "18f0ff80",
   "metadata": {
    "execution": {
     "iopub.execute_input": "2022-12-16T01:53:26.326186Z",
     "iopub.status.busy": "2022-12-16T01:53:26.325764Z",
     "iopub.status.idle": "2022-12-16T01:53:26.660448Z",
     "shell.execute_reply": "2022-12-16T01:53:26.659542Z"
    },
    "papermill": {
     "duration": 0.348733,
     "end_time": "2022-12-16T01:53:26.663025",
     "exception": false,
     "start_time": "2022-12-16T01:53:26.314292",
     "status": "completed"
    },
    "tags": []
   },
   "outputs": [
    {
     "data": {
      "application/javascript": [
       "parent.postMessage({\"jupyterEvent\": \"custom.exercise_interaction\", \"data\": {\"outcomeType\": 1, \"valueTowardsCompletion\": 0.3333333333333333, \"interactionType\": 1, \"questionType\": 2, \"questionId\": \"4.1_PlotBlueReg\", \"learnToolsVersion\": \"0.3.4\", \"failureMessage\": \"\", \"exceptionClass\": \"\", \"trace\": \"\"}}, \"*\")"
      ],
      "text/plain": [
       "<IPython.core.display.Javascript object>"
      ]
     },
     "metadata": {},
     "output_type": "display_data"
    },
    {
     "data": {
      "text/markdown": [
       "<span style=\"color:#33cc33\">Correct</span>"
      ],
      "text/plain": [
       "Correct"
      ]
     },
     "metadata": {},
     "output_type": "display_data"
    },
    {
     "data": {
      "image/png": "[encoded data removed]",
      "text/plain": [
       "<Figure size 432x288 with 1 Axes>"
      ]
     },
     "metadata": {
      "needs_background": "light"
     },
     "output_type": "display_data"
    }
   ],
   "source": [
    "# Scatter plot w/ regression line showing the relationship between 'sugarpercent' and 'winpercent'\n",
    "sns.regplot(x=candy_data['sugarpercent'], y=candy_data['winpercent'])\n",
    "\n",
    "# Check your answer\n",
    "step_4.a.check()"
   ]
  },
  {
   "cell_type": "code",
   "execution_count": 13,
   "id": "d6017464",
   "metadata": {
    "execution": {
     "iopub.execute_input": "2022-12-16T01:53:26.686254Z",
     "iopub.status.busy": "2022-12-16T01:53:26.685862Z",
     "iopub.status.idle": "2022-12-16T01:53:26.690396Z",
     "shell.execute_reply": "2022-12-16T01:53:26.689162Z"
    },
    "papermill": {
     "duration": 0.018909,
     "end_time": "2022-12-16T01:53:26.692813",
     "exception": false,
     "start_time": "2022-12-16T01:53:26.673904",
     "status": "completed"
    },
    "tags": []
   },
   "outputs": [],
   "source": [
    "# Lines below will give you a hint or solution code\n",
    "#step_4.a.hint()\n",
    "#step_4.a.solution_plot()"
   ]
  },
  {
   "cell_type": "markdown",
   "id": "720459d7",
   "metadata": {
    "papermill": {
     "duration": 0.010125,
     "end_time": "2022-12-16T01:53:26.714078",
     "exception": false,
     "start_time": "2022-12-16T01:53:26.703953",
     "status": "completed"
    },
    "tags": []
   },
   "source": [
    "#### Part B\n",
    "\n",
    "According to the plot above, is there a **slight** correlation between `'winpercent'` and `'sugarpercent'`?  What does this tell you about the candy that people tend to prefer?"
   ]
  },
  {
   "cell_type": "code",
   "execution_count": 14,
   "id": "6ea62340",
   "metadata": {
    "execution": {
     "iopub.execute_input": "2022-12-16T01:53:26.737089Z",
     "iopub.status.busy": "2022-12-16T01:53:26.736696Z",
     "iopub.status.idle": "2022-12-16T01:53:26.741307Z",
     "shell.execute_reply": "2022-12-16T01:53:26.740066Z"
    },
    "papermill": {
     "duration": 0.01881,
     "end_time": "2022-12-16T01:53:26.743496",
     "exception": false,
     "start_time": "2022-12-16T01:53:26.724686",
     "status": "completed"
    },
    "tags": []
   },
   "outputs": [],
   "source": [
    "#step_4.b.hint()"
   ]
  },
  {
   "cell_type": "code",
   "execution_count": 15,
   "id": "71a1ee60",
   "metadata": {
    "execution": {
     "iopub.execute_input": "2022-12-16T01:53:26.766238Z",
     "iopub.status.busy": "2022-12-16T01:53:26.765853Z",
     "iopub.status.idle": "2022-12-16T01:53:26.775385Z",
     "shell.execute_reply": "2022-12-16T01:53:26.774144Z"
    },
    "papermill": {
     "duration": 0.023402,
     "end_time": "2022-12-16T01:53:26.777495",
     "exception": false,
     "start_time": "2022-12-16T01:53:26.754093",
     "status": "completed"
    },
    "tags": []
   },
   "outputs": [
    {
     "data": {
      "application/javascript": [
       "parent.postMessage({\"jupyterEvent\": \"custom.exercise_interaction\", \"data\": {\"interactionType\": 3, \"questionType\": 4, \"questionId\": \"4.2_ThinkBlueReg\", \"learnToolsVersion\": \"0.3.4\", \"valueTowardsCompletion\": 0.0, \"failureMessage\": \"\", \"exceptionClass\": \"\", \"trace\": \"\", \"outcomeType\": 4}}, \"*\")"
      ],
      "text/plain": [
       "<IPython.core.display.Javascript object>"
      ]
     },
     "metadata": {},
     "output_type": "display_data"
    },
    {
     "data": {
      "text/markdown": [
       "<span style=\"color:#33cc99\">Solution:</span> Since the regression line has a slightly positive slope, this tells us that there is a slightly positive correlation between `'winpercent'` and `'sugarpercent'`. Thus, people have a slight preference for candies containing relatively more sugar."
      ],
      "text/plain": [
       "Solution: Since the regression line has a slightly positive slope, this tells us that there is a slightly positive correlation between `'winpercent'` and `'sugarpercent'`. Thus, people have a slight preference for candies containing relatively more sugar."
      ]
     },
     "metadata": {},
     "output_type": "display_data"
    }
   ],
   "source": [
    "# Check your answer (Run this code cell to receive credit!)\n",
    "step_4.b.solution()"
   ]
  },
  {
   "cell_type": "markdown",
   "id": "a71c607e",
   "metadata": {
    "papermill": {
     "duration": 0.011731,
     "end_time": "2022-12-16T01:53:26.801484",
     "exception": false,
     "start_time": "2022-12-16T01:53:26.789753",
     "status": "completed"
    },
    "tags": []
   },
   "source": [
    "## Step 5: Chocolate!\n",
    "\n",
    "In the code cell below, create a scatter plot to show the relationship between `'pricepercent'` (on the horizontal x-axis) and `'winpercent'` (on the vertical y-axis). Use the `'chocolate'` column to color-code the points.  _Don't add any regression lines just yet -- you'll do that in the next step!_"
   ]
  },
  {
   "cell_type": "code",
   "execution_count": 16,
   "id": "7a6f1645",
   "metadata": {
    "execution": {
     "iopub.execute_input": "2022-12-16T01:53:26.825656Z",
     "iopub.status.busy": "2022-12-16T01:53:26.825250Z",
     "iopub.status.idle": "2022-12-16T01:53:27.152398Z",
     "shell.execute_reply": "2022-12-16T01:53:27.151209Z"
    },
    "papermill": {
     "duration": 0.342243,
     "end_time": "2022-12-16T01:53:27.155138",
     "exception": false,
     "start_time": "2022-12-16T01:53:26.812895",
     "status": "completed"
    },
    "tags": []
   },
   "outputs": [
    {
     "data": {
      "application/javascript": [
       "parent.postMessage({\"jupyterEvent\": \"custom.exercise_interaction\", \"data\": {\"outcomeType\": 1, \"valueTowardsCompletion\": 0.3333333333333333, \"interactionType\": 1, \"questionType\": 2, \"questionId\": \"5_ColorScatter\", \"learnToolsVersion\": \"0.3.4\", \"failureMessage\": \"\", \"exceptionClass\": \"\", \"trace\": \"\"}}, \"*\")"
      ],
      "text/plain": [
       "<IPython.core.display.Javascript object>"
      ]
     },
     "metadata": {},
     "output_type": "display_data"
    },
    {
     "data": {
      "text/markdown": [
       "<span style=\"color:#33cc33\">Correct</span>"
      ],
      "text/plain": [
       "Correct"
      ]
     },
     "metadata": {},
     "output_type": "display_data"
    },
    {
     "data": {
      "image/png": "[encoded data removed]",
      "text/plain": [
       "<Figure size 432x288 with 1 Axes>"
      ]
     },
     "metadata": {
      "needs_background": "light"
     },
     "output_type": "display_data"
    }
   ],
   "source": [
    "# Scatter plot showing the relationship between 'pricepercent', 'winpercent', and 'chocolate'\n",
    "sns.scatterplot(x=candy_data['pricepercent'], y=candy_data['winpercent'], hue=candy_data['chocolate'])\n",
    "\n",
    "# Check your answer\n",
    "step_5.check()"
   ]
  },
  {
   "cell_type": "code",
   "execution_count": 17,
   "id": "5b586a9a",
   "metadata": {
    "execution": {
     "iopub.execute_input": "2022-12-16T01:53:27.182288Z",
     "iopub.status.busy": "2022-12-16T01:53:27.181379Z",
     "iopub.status.idle": "2022-12-16T01:53:27.186457Z",
     "shell.execute_reply": "2022-12-16T01:53:27.185443Z"
    },
    "papermill": {
     "duration": 0.020597,
     "end_time": "2022-12-16T01:53:27.188742",
     "exception": false,
     "start_time": "2022-12-16T01:53:27.168145",
     "status": "completed"
    },
    "tags": []
   },
   "outputs": [],
   "source": [
    "# Lines below will give you a hint or solution code\n",
    "#step_5.hint()\n",
    "#step_5.solution_plot()"
   ]
  },
  {
   "cell_type": "markdown",
   "id": "7e42c2ac",
   "metadata": {
    "papermill": {
     "duration": 0.014909,
     "end_time": "2022-12-16T01:53:27.217779",
     "exception": false,
     "start_time": "2022-12-16T01:53:27.202870",
     "status": "completed"
    },
    "tags": []
   },
   "source": [
    "Can you see any interesting patterns in the scatter plot?  We'll investigate this plot further  by adding regression lines in the next step!\n",
    "\n",
    "## Step 6: Investigate chocolate\n",
    "\n",
    "#### Part A\n",
    "\n",
    "Create the same scatter plot you created in **Step 5**, but now with two regression lines, corresponding to (1) chocolate candies and (2) candies without chocolate."
   ]
  },
  {
   "cell_type": "code",
   "execution_count": 18,
   "id": "49a6d4a7",
   "metadata": {
    "execution": {
     "iopub.execute_input": "2022-12-16T01:53:27.244449Z",
     "iopub.status.busy": "2022-12-16T01:53:27.243558Z",
     "iopub.status.idle": "2022-12-16T01:53:27.956826Z",
     "shell.execute_reply": "2022-12-16T01:53:27.955696Z"
    },
    "papermill": {
     "duration": 0.729842,
     "end_time": "2022-12-16T01:53:27.959697",
     "exception": false,
     "start_time": "2022-12-16T01:53:27.229855",
     "status": "completed"
    },
    "tags": []
   },
   "outputs": [
    {
     "data": {
      "application/javascript": [
       "parent.postMessage({\"jupyterEvent\": \"custom.exercise_interaction\", \"data\": {\"outcomeType\": 1, \"valueTowardsCompletion\": 0.3333333333333333, \"interactionType\": 1, \"questionType\": 2, \"questionId\": \"6.1_PlotColorReg\", \"learnToolsVersion\": \"0.3.4\", \"failureMessage\": \"\", \"exceptionClass\": \"\", \"trace\": \"\"}}, \"*\")"
      ],
      "text/plain": [
       "<IPython.core.display.Javascript object>"
      ]
     },
     "metadata": {},
     "output_type": "display_data"
    },
    {
     "data": {
      "text/markdown": [
       "<span style=\"color:#33cc33\">Correct</span>"
      ],
      "text/plain": [
       "Correct"
      ]
     },
     "metadata": {},
     "output_type": "display_data"
    },
    {
     "data": {
      "image/png": "[encoded data removed]",
      "text/plain": [
       "<Figure size 416.375x360 with 1 Axes>"
      ]
     },
     "metadata": {
      "needs_background": "light"
     },
     "output_type": "display_data"
    }
   ],
   "source": [
    "# Color-coded scatter plot w/ regression lines\n",
    "sns.lmplot(x='pricepercent', y='winpercent', hue='chocolate', data=candy_data)\n",
    "\n",
    "# Check your answer\n",
    "step_6.a.check()"
   ]
  },
  {
   "cell_type": "code",
   "execution_count": 19,
   "id": "c5644f05",
   "metadata": {
    "execution": {
     "iopub.execute_input": "2022-12-16T01:53:27.989000Z",
     "iopub.status.busy": "2022-12-16T01:53:27.988320Z",
     "iopub.status.idle": "2022-12-16T01:53:27.993397Z",
     "shell.execute_reply": "2022-12-16T01:53:27.992141Z"
    },
    "papermill": {
     "duration": 0.021133,
     "end_time": "2022-12-16T01:53:27.995994",
     "exception": false,
     "start_time": "2022-12-16T01:53:27.974861",
     "status": "completed"
    },
    "tags": []
   },
   "outputs": [],
   "source": [
    "# Lines below will give you a hint or solution code\n",
    "#step_6.a.hint()\n",
    "#step_6.a.solution_plot()"
   ]
  },
  {
   "cell_type": "markdown",
   "id": "767c21c8",
   "metadata": {
    "papermill": {
     "duration": 0.011957,
     "end_time": "2022-12-16T01:53:28.020075",
     "exception": false,
     "start_time": "2022-12-16T01:53:28.008118",
     "status": "completed"
    },
    "tags": []
   },
   "source": [
    "#### Part B\n",
    "\n",
    "Using the regression lines, what conclusions can you draw about the effects of chocolate and price on candy popularity?"
   ]
  },
  {
   "cell_type": "code",
   "execution_count": 20,
   "id": "cfaf0e92",
   "metadata": {
    "execution": {
     "iopub.execute_input": "2022-12-16T01:53:28.046932Z",
     "iopub.status.busy": "2022-12-16T01:53:28.045797Z",
     "iopub.status.idle": "2022-12-16T01:53:28.050672Z",
     "shell.execute_reply": "2022-12-16T01:53:28.049918Z"
    },
    "papermill": {
     "duration": 0.020668,
     "end_time": "2022-12-16T01:53:28.052890",
     "exception": false,
     "start_time": "2022-12-16T01:53:28.032222",
     "status": "completed"
    },
    "tags": []
   },
   "outputs": [],
   "source": [
    "#step_6.b.hint()"
   ]
  },
  {
   "cell_type": "code",
   "execution_count": 21,
   "id": "321ae734",
   "metadata": {
    "execution": {
     "iopub.execute_input": "2022-12-16T01:53:28.080631Z",
     "iopub.status.busy": "2022-12-16T01:53:28.080214Z",
     "iopub.status.idle": "2022-12-16T01:53:28.089115Z",
     "shell.execute_reply": "2022-12-16T01:53:28.087972Z"
    },
    "papermill": {
     "duration": 0.026423,
     "end_time": "2022-12-16T01:53:28.091483",
     "exception": false,
     "start_time": "2022-12-16T01:53:28.065060",
     "status": "completed"
    },
    "tags": []
   },
   "outputs": [
    {
     "data": {
      "application/javascript": [
       "parent.postMessage({\"jupyterEvent\": \"custom.exercise_interaction\", \"data\": {\"interactionType\": 3, \"questionType\": 4, \"questionId\": \"6.2_ThinkColorReg\", \"learnToolsVersion\": \"0.3.4\", \"valueTowardsCompletion\": 0.0, \"failureMessage\": \"\", \"exceptionClass\": \"\", \"trace\": \"\", \"outcomeType\": 4}}, \"*\")"
      ],
      "text/plain": [
       "<IPython.core.display.Javascript object>"
      ]
     },
     "metadata": {},
     "output_type": "display_data"
    },
    {
     "data": {
      "text/markdown": [
       "<span style=\"color:#33cc99\">Solution:</span> We'll begin with the regression line for chocolate candies. Since this line has a slightly positive slope, we can say that more expensive chocolate candies tend to be more popular (than relatively cheaper chocolate candies).  Likewise, since the regression line for candies without chocolate has a negative slope, we can say that if candies don't contain chocolate, they tend to be more popular when they are cheaper.  One important note, however, is that the dataset is quite small -- so we shouldn't invest too much trust in these patterns!  To inspire more confidence in the results, we should add more candies to the dataset."
      ],
      "text/plain": [
       "Solution: We'll begin with the regression line for chocolate candies. Since this line has a slightly positive slope, we can say that more expensive chocolate candies tend to be more popular (than relatively cheaper chocolate candies).  Likewise, since the regression line for candies without chocolate has a negative slope, we can say that if candies don't contain chocolate, they tend to be more popular when they are cheaper.  One important note, however, is that the dataset is quite small -- so we shouldn't invest too much trust in these patterns!  To inspire more confidence in the results, we should add more candies to the dataset."
      ]
     },
     "metadata": {},
     "output_type": "display_data"
    }
   ],
   "source": [
    "# Check your answer (Run this code cell to receive credit!)\n",
    "step_6.b.solution()"
   ]
  },
  {
   "cell_type": "markdown",
   "id": "b1494ce1",
   "metadata": {
    "papermill": {
     "duration": 0.012615,
     "end_time": "2022-12-16T01:53:28.116772",
     "exception": false,
     "start_time": "2022-12-16T01:53:28.104157",
     "status": "completed"
    },
    "tags": []
   },
   "source": [
    "## Step 7: Everybody loves chocolate.\n",
    "\n",
    "#### Part A\n",
    "\n",
    "Create a categorical scatter plot to highlight the relationship between `'chocolate'` and `'winpercent'`.  Put `'chocolate'` on the (horizontal) x-axis, and `'winpercent'` on the (vertical) y-axis."
   ]
  },
  {
   "cell_type": "code",
   "execution_count": 22,
   "id": "bb95c28b",
   "metadata": {
    "execution": {
     "iopub.execute_input": "2022-12-16T01:53:28.144304Z",
     "iopub.status.busy": "2022-12-16T01:53:28.143507Z",
     "iopub.status.idle": "2022-12-16T01:53:28.297117Z",
     "shell.execute_reply": "2022-12-16T01:53:28.295876Z"
    },
    "papermill": {
     "duration": 0.170357,
     "end_time": "2022-12-16T01:53:28.299799",
     "exception": false,
     "start_time": "2022-12-16T01:53:28.129442",
     "status": "completed"
    },
    "tags": []
   },
   "outputs": [
    {
     "data": {
      "application/javascript": [
       "parent.postMessage({\"jupyterEvent\": \"custom.exercise_interaction\", \"data\": {\"outcomeType\": 1, \"valueTowardsCompletion\": 0.3333333333333333, \"interactionType\": 1, \"questionType\": 2, \"questionId\": \"7.1_PlotSwarm\", \"learnToolsVersion\": \"0.3.4\", \"failureMessage\": \"\", \"exceptionClass\": \"\", \"trace\": \"\"}}, \"*\")"
      ],
      "text/plain": [
       "<IPython.core.display.Javascript object>"
      ]
     },
     "metadata": {},
     "output_type": "display_data"
    },
    {
     "data": {
      "text/markdown": [
       "<span style=\"color:#33cc33\">Correct</span>"
      ],
      "text/plain": [
       "Correct"
      ]
     },
     "metadata": {},
     "output_type": "display_data"
    },
    {
     "data": {
      "image/png": "[encoded data removed]",
      "text/plain": [
       "<Figure size 432x288 with 1 Axes>"
      ]
     },
     "metadata": {
      "needs_background": "light"
     },
     "output_type": "display_data"
    }
   ],
   "source": [
    "# Scatter plot showing the relationship between 'chocolate' and 'winpercent'\n",
    "sns.swarmplot(x=candy_data['chocolate'], y=candy_data['winpercent'])\n",
    "\n",
    "# Check your answer\n",
    "step_7.a.check()"
   ]
  },
  {
   "cell_type": "code",
   "execution_count": 23,
   "id": "bdaff986",
   "metadata": {
    "execution": {
     "iopub.execute_input": "2022-12-16T01:53:28.327498Z",
     "iopub.status.busy": "2022-12-16T01:53:28.327062Z",
     "iopub.status.idle": "2022-12-16T01:53:28.332213Z",
     "shell.execute_reply": "2022-12-16T01:53:28.330920Z"
    },
    "papermill": {
     "duration": 0.02168,
     "end_time": "2022-12-16T01:53:28.334434",
     "exception": false,
     "start_time": "2022-12-16T01:53:28.312754",
     "status": "completed"
    },
    "tags": []
   },
   "outputs": [],
   "source": [
    "# Lines below will give you a hint or solution code\n",
    "#step_7.a.hint()\n",
    "#step_7.a.solution_plot()"
   ]
  },
  {
   "cell_type": "markdown",
   "id": "7a5727b2",
   "metadata": {
    "papermill": {
     "duration": 0.012986,
     "end_time": "2022-12-16T01:53:28.360592",
     "exception": false,
     "start_time": "2022-12-16T01:53:28.347606",
     "status": "completed"
    },
    "tags": []
   },
   "source": [
    "#### Part B\n",
    "\n",
    "You decide to dedicate a section of your report to the fact that chocolate candies tend to be more popular than candies without chocolate.  Which plot is more appropriate to tell this story: the plot from **Step 6**, or the plot from **Step 7**?"
   ]
  },
  {
   "cell_type": "code",
   "execution_count": 24,
   "id": "aac87849",
   "metadata": {
    "execution": {
     "iopub.execute_input": "2022-12-16T01:53:28.390032Z",
     "iopub.status.busy": "2022-12-16T01:53:28.389299Z",
     "iopub.status.idle": "2022-12-16T01:53:28.393213Z",
     "shell.execute_reply": "2022-12-16T01:53:28.392437Z"
    },
    "papermill": {
     "duration": 0.021696,
     "end_time": "2022-12-16T01:53:28.395397",
     "exception": false,
     "start_time": "2022-12-16T01:53:28.373701",
     "status": "completed"
    },
    "tags": []
   },
   "outputs": [],
   "source": [
    "#step_7.b.hint()"
   ]
  },
  {
   "cell_type": "code",
   "execution_count": 25,
   "id": "cf91d469",
   "metadata": {
    "execution": {
     "iopub.execute_input": "2022-12-16T01:53:28.423556Z",
     "iopub.status.busy": "2022-12-16T01:53:28.422836Z",
     "iopub.status.idle": "2022-12-16T01:53:28.431241Z",
     "shell.execute_reply": "2022-12-16T01:53:28.430084Z"
    },
    "papermill": {
     "duration": 0.025163,
     "end_time": "2022-12-16T01:53:28.433686",
     "exception": false,
     "start_time": "2022-12-16T01:53:28.408523",
     "status": "completed"
    },
    "tags": []
   },
   "outputs": [
    {
     "data": {
      "application/javascript": [
       "parent.postMessage({\"jupyterEvent\": \"custom.exercise_interaction\", \"data\": {\"interactionType\": 3, \"questionType\": 4, \"questionId\": \"7.2_ThinkSwarm\", \"learnToolsVersion\": \"0.3.4\", \"valueTowardsCompletion\": 0.0, \"failureMessage\": \"\", \"exceptionClass\": \"\", \"trace\": \"\", \"outcomeType\": 4}}, \"*\")"
      ],
      "text/plain": [
       "<IPython.core.display.Javascript object>"
      ]
     },
     "metadata": {},
     "output_type": "display_data"
    },
    {
     "data": {
      "text/markdown": [
       "<span style=\"color:#33cc99\">Solution:</span> In this case, the categorical scatter plot from **Step 7** is the more appropriate plot. While both plots tell the desired story, the plot from **Step 6** conveys far more information that could distract from the main point."
      ],
      "text/plain": [
       "Solution: In this case, the categorical scatter plot from **Step 7** is the more appropriate plot. While both plots tell the desired story, the plot from **Step 6** conveys far more information that could distract from the main point."
      ]
     },
     "metadata": {},
     "output_type": "display_data"
    }
   ],
   "source": [
    "# Check your answer (Run this code cell to receive credit!)\n",
    "step_7.b.solution()"
   ]
  },
  {
   "cell_type": "markdown",
   "id": "70c4a953",
   "metadata": {
    "papermill": {
     "duration": 0.012959,
     "end_time": "2022-12-16T01:53:28.460010",
     "exception": false,
     "start_time": "2022-12-16T01:53:28.447051",
     "status": "completed"
    },
    "tags": []
   },
   "source": [
    "## Keep going\n",
    "\n",
    "Explore **[histograms and density plots](https://www.kaggle.com/alexisbcook/distributions)**."
   ]
  },
  {
   "cell_type": "markdown",
   "id": "b5649a7f",
   "metadata": {
    "papermill": {
     "duration": 0.013039,
     "end_time": "2022-12-16T01:53:28.486836",
     "exception": false,
     "start_time": "2022-12-16T01:53:28.473797",
     "status": "completed"
    },
    "tags": []
   },
   "source": [
    "---\n",
    "\n",
    "\n",
    "\n",
    "\n",
    "*Have questions or comments? Visit the [course discussion forum](https://www.kaggle.com/learn/data-visualization/discussion) to chat with other learners.*"
   ]
  }
 ],
 "metadata": {
  "kernelspec": {
   "display_name": "Python 3",
   "language": "python",
   "name": "python3"
  },
  "language_info": {
   "codemirror_mode": {
    "name": "ipython",
    "version": 3
   },
   "file_extension": ".py",
   "mimetype": "text/x-python",
   "name": "python",
   "nbconvert_exporter": "python",
   "pygments_lexer": "ipython3",
   "version": "3.7.12"
  },
  "papermill": {
   "default_parameters": {},
   "duration": 14.597222,
   "end_time": "2022-12-16T01:53:29.222263",
   "environment_variables": {},
   "exception": null,
   "input_path": "__notebook__.ipynb",
   "output_path": "__notebook__.ipynb",
   "parameters": {},
   "start_time": "2022-12-16T01:53:14.625041",
   "version": "2.3.4"
  }
 },
 "nbformat": 4,
 "nbformat_minor": 5
}
